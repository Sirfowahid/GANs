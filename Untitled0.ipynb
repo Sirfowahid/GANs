{
  "nbformat": 4,
  "nbformat_minor": 0,
  "metadata": {
    "colab": {
      "provenance": [],
      "authorship_tag": "ABX9TyMUsnysduHcUyz7IukG/T1X",
      "include_colab_link": true
    },
    "kernelspec": {
      "name": "python3",
      "display_name": "Python 3"
    },
    "language_info": {
      "name": "python"
    }
  },
  "cells": [
    {
      "cell_type": "markdown",
      "metadata": {
        "id": "view-in-github",
        "colab_type": "text"
      },
      "source": [
        "<a href=\"https://colab.research.google.com/github/Sirfowahid/GANs/blob/main/Untitled0.ipynb\" target=\"_parent\"><img src=\"https://colab.research.google.com/assets/colab-badge.svg\" alt=\"Open In Colab\"/></a>"
      ]
    },
    {
      "cell_type": "markdown",
      "source": [
        "# **First GAN**"
      ],
      "metadata": {
        "id": "z_19jcF_xxnX"
      }
    },
    {
      "cell_type": "code",
      "execution_count": 1,
      "metadata": {
        "colab": {
          "base_uri": "https://localhost:8080/"
        },
        "id": "hBurdhZsw12X",
        "outputId": "d2531695-96b6-4efa-f28b-e27e44417f48"
      },
      "outputs": [
        {
          "output_type": "execute_result",
          "data": {
            "text/plain": [
              "<torch._C.Generator at 0x7ba0a4069690>"
            ]
          },
          "metadata": {},
          "execution_count": 1
        }
      ],
      "source": [
        "import torch\n",
        "from torch import nn\n",
        "from tqdm.auto import tqdm\n",
        "from torchvision import transforms\n",
        "from torchvision.datasets import MNIST\n",
        "from torch.utils.data import DataLoader\n",
        "from torchvision.utils import make_grid\n",
        "import matplotlib.pyplot as plt\n",
        "import seaborn as sns\n",
        "from datetime import datetime\n",
        "torch.manual_seed(2912)"
      ]
    },
    {
      "cell_type": "code",
      "source": [
        "def show_tensor_image(image_tensor,num_images=25,size=(1,28,28)):\n",
        "  '''\n",
        "  Function for visualizing images...\n",
        "  Parameters:image_tensor,num_images,size\n",
        "  '''\n",
        "  image_unflat = image_tensor.detach().cpu().view(-1,*size)\n",
        "  image_grid = make_grid(image_unflat[:num_images],nrow=5)\n",
        "  plt.imshow(image_grid.permute(1,2,0).squeeze())\n",
        "  plt.show()"
      ],
      "metadata": {
        "id": "XuWF8aHwxiVH"
      },
      "execution_count": 2,
      "outputs": []
    },
    {
      "cell_type": "code",
      "source": [
        "def get_generator_block(input_dim,output_dim):\n",
        "  '''\n",
        "    function return generator block of the generator neural network.\n",
        "    Parameter:\n",
        "      input_dim : the dimension of the input vector, a scalar\n",
        "      output_dim : the dimension of the output vector, a scaler\n",
        "    Return:\n",
        "      a generator neural network layer with a linear transformation followed by\n",
        "      a batch normalization and then the relu activation\n",
        "  '''\n",
        "\n",
        "  return nn.Sequential(\n",
        "      nn.Linear(input_dim,output_dim),\n",
        "      nn.BatchNorm(output_dim),\n",
        "      nn.ReLU(inplace=True)\n",
        "  )"
      ],
      "metadata": {
        "id": "MtG_PJS33_CE"
      },
      "execution_count": 3,
      "outputs": []
    },
    {
      "cell_type": "code",
      "source": [
        "class Generator(nn.Module):\n",
        "  def __init__(self,z_dim=10,im_dim=784,hidden_dim=128):\n",
        "    super(Generator,self).__init__()\n",
        "    self.gen = nn.Sequential(\n",
        "        get_generator_block(z_dim,hidden_dim),\n",
        "        get_generator_block(hidden_dim,hidden_dim*2),\n",
        "        get_generator_block(hidden_dim*2,hidden_dim*4),\n",
        "        get_generator_block(hidden_dim*4,hidden_dim*8),\n",
        "        get_generator_block(hidden_dim*8,im_dim),\n",
        "        nn.Sigmoid()\n",
        "    )\n",
        "  def forward(self,noise):\n",
        "    return self.gen(noise)\n",
        "\n",
        "  def get_gen(self):\n",
        "    return self.gen"
      ],
      "metadata": {
        "id": "ftfWgME15Ke8"
      },
      "execution_count": 5,
      "outputs": []
    },
    {
      "cell_type": "code",
      "source": [
        "def get_noise(n_samples,z_dim,device='cpu'):\n",
        "  return torch.randn(n_samples,z_dim,device=device)"
      ],
      "metadata": {
        "id": "MdX1RiqY9egc"
      },
      "execution_count": 6,
      "outputs": []
    },
    {
      "cell_type": "code",
      "source": [
        "def get_discriminator_block(input_dim,output_dim):\n",
        "  return nn.Sequential(\n",
        "      nn.Linear(input_dim,output_dim),\n",
        "      nn.LeakyReLU(0.2)\n",
        "  )"
      ],
      "metadata": {
        "id": "pkDdyh9X96eI"
      },
      "execution_count": 7,
      "outputs": []
    },
    {
      "cell_type": "code",
      "source": [
        "class Discriminator(nn.Module):\n",
        "  def __init__(self,im_dim=784,hidden_dim=128):\n",
        "    super(Discriminator,self).__init__()\n",
        "    self.disc = nn.Sequential(\n",
        "        get_discriminator_block(im_dim,hidden_dim*4),\n",
        "        get_discriminator_block(hidden_dim*4,hidden_dim*2),\n",
        "        get_discriminator_block(hidden_dim*2,hidden_dim),\n",
        "        nn.Linear(hidden_dim,1)\n",
        "    )\n",
        "  def forward(self,image):\n",
        "    return self.disc(image)\n",
        "  def get_disc(self):\n",
        "    return self.disc"
      ],
      "metadata": {
        "id": "Tosn-HzI-Obh"
      },
      "execution_count": 8,
      "outputs": []
    },
    {
      "cell_type": "code",
      "source": [],
      "metadata": {
        "id": "lYNzfpDh_hpi"
      },
      "execution_count": null,
      "outputs": []
    }
  ]
}